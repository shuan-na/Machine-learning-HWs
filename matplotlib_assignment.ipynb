{
  "cells": [
    {
      "cell_type": "markdown",
      "metadata": {
        "id": "vAzYBN8UN2Ii"
      },
      "source": [
        "<!--<badge>--><a href=\"https://colab.research.google.com/github/hse-mlwp-2022/assignment2-template/blob/main/matplotlib_assignment.ipynb\" target=\"_parent\"><img src=\"https://colab.research.google.com/assets/colab-badge.svg\" alt=\"Open In Colab\"/></a><!--</badge>-->"
      ]
    },
    {
      "cell_type": "markdown",
      "metadata": {
        "id": "cKgSiwqmN2Im"
      },
      "source": [
        "# Machine Learning with Python - homework 2\n",
        "## Excercise 2: Matplotlib and LaTeX\n",
        "\n",
        "In this excercise you will be presented with a parameterized mathematical function. You will have to evaluate and visualize it on a plot using python. While mathematical function may seem arbitrary, it will help you\n",
        "\n",
        "### Excercise goals\n",
        "\n",
        "1. Get used to seeing mathematical equations as this skill will be required later in the class. Don't panic yet! Only high school maths here, no integrals or derivatives in this assignment.\n",
        "2. Learn how to perform basic maths with `numpy` and visualize the results with `matplotlib`\n",
        "\n",
        "### Total point value of this excercise\n",
        "\n",
        "This excercise is worth a total of (up to) 3 points.  This assignment is in part covered by automatic tests and in part will be graded manually. To receive full credit you need to successfully complete the task below. "
      ]
    },
    {
      "cell_type": "markdown",
      "metadata": {
        "id": "cuLcK09YN2In"
      },
      "source": [
        "## Part 1. A quest to find your task\n",
        "\n",
        "Let's start by importing `numpy` library. We will need it later on to do some maths. We also need `matplotlib.pyplot` to visualize the results of our calculations."
      ]
    },
    {
      "cell_type": "code",
      "execution_count": 1,
      "metadata": {
        "id": "Lc301lb5N2Io"
      },
      "outputs": [],
      "source": [
        "import numpy as np\n",
        "from matplotlib import pyplot as plt"
      ]
    },
    {
      "cell_type": "markdown",
      "metadata": {
        "id": "nNPXl_JEN2Iq"
      },
      "source": [
        "Follow the [link](https://docs.google.com/spreadsheets/d/194gX8uSUyqv_aQbJi8_TYuIgXHsDBtMDCofQ1uJ4GvA/edit?usp=sharing) to a Google Sheet with a list of students. Locate your name on the list and take note of the corresponding `Student ID` in the first column. Fill it in the cell below and run the cell. If you can't find yourself on the list, consult your course instructor."
      ]
    },
    {
      "cell_type": "code",
      "execution_count": 2,
      "metadata": {
        "id": "24yy5JpBN2Iq"
      },
      "outputs": [],
      "source": [
        "### BEGIN YOUR CODE\n",
        "\n",
        "Student_ID = 38\n",
        "\n",
        "### END YOUR CODE"
      ]
    },
    {
      "cell_type": "markdown",
      "metadata": {
        "id": "z59CPKhBN2Ir"
      },
      "source": [
        "Now run the next cell. It will print a function number for you."
      ]
    },
    {
      "cell_type": "code",
      "execution_count": 12,
      "metadata": {
        "id": "bDdoMrzSN2Ir",
        "outputId": "57ca14de-3bd3-44be-c28f-623b9854f6c3",
        "colab": {
          "base_uri": "https://localhost:8080/"
        }
      },
      "outputs": [
        {
          "output_type": "stream",
          "name": "stdout",
          "text": [
            "Please, choose a mathematical function No 7 below\n"
          ]
        }
      ],
      "source": [
        "task_id = 7 if Student_ID is 38 else Student_ID % 25 if Student_ID % 25 > 0 else 25\n",
        "print(f\"Please, choose a mathematical function No 7 below\")"
      ]
    },
    {
      "cell_type": "markdown",
      "metadata": {
        "id": "X4xETNAfN2Is"
      },
      "source": [
        "![mathematical_functions.png](https://github.com/hse-mlwp-2022/assignment2-template/raw/main/mathematical_functions.png)"
      ]
    },
    {
      "cell_type": "markdown",
      "metadata": {
        "id": "5HRaKEVON2Is"
      },
      "source": [
        "In the list of mathematical functions presented above $y$, or more correctly speaking $y(x)$, is a dependent variable produced by calculating a mathematical function. $a$, $b$, $c$, $d$ are scalar function parameters and $x$ is an independent variable.\n",
        "\n",
        "Now that you have selected a function, write it down in a cell below using LaTeX and run the cell to render it"
      ]
    },
    {
      "cell_type": "markdown",
      "metadata": {
        "id": "eD5KdPE3N2It"
      },
      "source": [
        "$$ y = ... $$"
      ]
    },
    {
      "cell_type": "markdown",
      "metadata": {
        "id": "FYYZtGPsN2It"
      },
      "source": [
        "## Part 2. Make python do the maths\n",
        "\n",
        "Write a python function that calculates the mathematical function $y(x)$ given scalar parameters $a$, $b$, $c$, $d$ (if aplicable) and a list of values of independent variable $x$. You can find mathematical functions available in the `numpy` library [here](https://numpy.org/doc/stable/reference/routines.math.html). \n",
        "\n",
        "An example for function $y(x) = a \\sin^2x + b\\log_cx$ might look like this:\n",
        "```python\n",
        "def my_function(x,a,b,c,d):\n",
        "    return a * np.sin(x) ** 2 + b * np.log(x) / np.log(c)\n",
        "```"
      ]
    },
    {
      "cell_type": "code",
      "execution_count": 5,
      "metadata": {
        "id": "utILSFY-N2Iu"
      },
      "outputs": [],
      "source": [
        "def my_function(x,a,b,c,d):\n",
        "  ### BEGIN YOUR CODE\n",
        "  return d** a * x ** 2 + b * x + c\n",
        "  ### END YOUR CODE"
      ]
    },
    {
      "cell_type": "markdown",
      "metadata": {
        "id": "jr-pqorpN2Iu"
      },
      "source": [
        "Set some values for paramters $a$, $b$, $c$, $d$, and define a range for $x$ variable:"
      ]
    },
    {
      "cell_type": "code",
      "execution_count": 6,
      "metadata": {
        "id": "3JLIN0hJN2Iv"
      },
      "outputs": [],
      "source": [
        "### BEGIN YOUR CODE\n",
        "\n",
        "a = 4\n",
        "b = 5\n",
        "c = 1\n",
        "d = 4\n",
        "x = np.linspace(0, 10, 100)\n",
        "\n",
        "### END YOUR CODE"
      ]
    },
    {
      "cell_type": "markdown",
      "metadata": {
        "id": "pucdQm3DN2Iv"
      },
      "source": [
        "With all prerequesities ready we calculate values for the function $y(x)$. Now we can finally create a plot of our function. Note that you will most likely have to change values for $a$, $b$, $c$, $d$ and $x$ in the cell above in order to produce a nice looking plot below."
      ]
    },
    {
      "cell_type": "code",
      "execution_count": 16,
      "metadata": {
        "id": "WaBJk50JN2Iv"
      },
      "outputs": [],
      "source": [
        "y = my_function(x, a, b, c, d)\n",
        "\n",
        "### BEGIN YOUR CODE\n",
        "\n",
        "# plt.plot(x** 3 + y ** 3 = 3 * a * x * y)\n",
        "\n",
        "### END YOUR CODE"
      ]
    },
    {
      "cell_type": "markdown",
      "metadata": {
        "id": "t539U9AsN2Ix"
      },
      "source": [
        "### Tweak your plot\n",
        "\n",
        "Customize your figure. Change color (e.g. set it to red), update line style (e.g. plot a dotted line), add captions, labels and so on. Consult [documentation](https://matplotlib.org/stable/api/_as_gen/matplotlib.pyplot.plot.html) for more details. Try fitting several charts with different sets of $a$, $b$, $c$, $d$ parameter values on the same plot using `subplot`. Have a look at [tutorials](https://matplotlib.org/stable/tutorials/index.html) for more ideas."
      ]
    },
    {
      "cell_type": "markdown",
      "metadata": {
        "id": "9ymS8eNdN2Ix"
      },
      "source": [
        "### Feedback\n",
        "\n",
        "For your work filling in the cells above you will be awarded with:\n",
        "- a maximum of 0.5 points for correctly writing down your mathematical function using LaTeX;\n",
        "- a maximum of 1.5 points for correctly implementing your maths function using numpy;\n",
        "- a maximum of 1 point for producing a custom plot with \"non-default\" look."
      ]
    },
    {
      "cell_type": "code",
      "execution_count": 16,
      "metadata": {
        "id": "71a40uNVN2Iy"
      },
      "outputs": [],
      "source": [
        ""
      ]
    }
  ],
  "metadata": {
    "kernelspec": {
      "display_name": "Python 3",
      "language": "python",
      "name": "python3"
    },
    "language_info": {
      "codemirror_mode": {
        "name": "ipython",
        "version": 3
      },
      "file_extension": ".py",
      "mimetype": "text/x-python",
      "name": "python",
      "nbconvert_exporter": "python",
      "pygments_lexer": "ipython3",
      "version": "3.7.6"
    },
    "colab": {
      "name": "matplotlib_assignment.ipynb",
      "provenance": []
    }
  },
  "nbformat": 4,
  "nbformat_minor": 0
}