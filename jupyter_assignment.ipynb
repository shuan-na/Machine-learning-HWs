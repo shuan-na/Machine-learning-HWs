{
  "cells": [
    {
      "cell_type": "markdown",
      "metadata": {
        "id": "view-in-github",
        "colab_type": "text"
      },
      "source": [
        "<a href=\"https://colab.research.google.com/github/shuan-na/Machine-learning-HWs/blob/main/jupyter_assignment.ipynb\" target=\"_parent\"><img src=\"https://colab.research.google.com/assets/colab-badge.svg\" alt=\"Open In Colab\"/></a>"
      ]
    },
    {
      "cell_type": "markdown",
      "metadata": {
        "id": "7Et4sYOiVUAN"
      },
      "source": [
        "# Machine Learning with Python - homework 2\n",
        "## Excercise 1: Introduction to Jupyter and Google Colab\n",
        "\n",
        "Like most assignments in this course, all of the files for this assignment are contained in a single GitHub repository (i.e., a collection of files hosted on GitHub's servers).  Assignments are set up using \"template\" repositories.  The idea is that these templates for each assignment will provide a framework for you to work with.  Your job is to follow each assignment's instructions and fill in the missing pieces of code and/or text.\n",
        "\n",
        "When you accept an assignment (e.g., using the GitHub classroom link from your instructor) this uses the assignment's template repository to create a personal \"fork\" (copy) of the files.  A message should inform you where this fork is located (i.e., a web address); this will normally be something like `https://github.com/<course_name>/<assignment_name>-<username>`, where \"`<course_name>`\" is replaced with an abbreviation of you course name, \"`<assignment_name>`\" is replaced with an abbreviation of assignment name and \"`<username>`\" is replaced with your actual GitHub username.\n",
        "\n",
        "While it's good to have a general sense of how assignments work in this course, it's not critical that you understand the details of how they are set up.  You just need to be able to view and run the relevant files, and to submit assignments so that you can get credit for your efforts.\n",
        "\n",
        "**If you've already accepted this assignment and are viewing this file in Google Colaboratory, please continue on.  If you haven't accepted the assignment, or if you aren't viewing this notebook in Google Colaboratory, please follow the initial instructions you were provided with so that you can carry out this assignment.**\n",
        "\n",
        "### Excercise goals\n",
        "\n",
        "You're going to learn four things in this excercise:\n",
        "\n",
        "1.   How to use Jupyter (Colaboratory) notebooks\n",
        "2.   How to set up your Google Colaboratory account\n",
        "3.   How to access and submit assignments\n",
        "4.   How to write a (tiny!) Python program and run it with Jupyter\n",
        "\n",
        "### Total point value of this excercise\n",
        "\n",
        "This excercise is worth a total of (up to) 2 points.  If your code passes all of the automatic checks, you will receive full credit."
      ]
    },
    {
      "cell_type": "markdown",
      "metadata": {
        "id": "taMUWizwWIY3"
      },
      "source": [
        "## Part 1: Jupyter notebooks, Google Colaboratory, and GitHub\n",
        "\n",
        "You should start by going through [this notebook](introduction_and_overview.ipynb) ([![Open In Colab](https://colab.research.google.com/assets/colab-badge.svg)](https://colab.research.google.com/github/hse-mlwp-2022/assignment2-template/blob/main/introduction_and_overview.ipynb)) to familiarize yourself with Jupyter notebooks and Google Colaboratory.  Follow the instructions in the notebook to set up your Google Colaboratory account.\n",
        "\n",
        "Change the code in the next cell to indicate that you've gone through the introductory notebook, read about Jupyter/Colaboratory notebooks, set up your Google Colaboratory account, and set up your GitHub account.  You should change each variable from `False` to `True` to show which tasks you have (by self-report) accomplished.  Also update the `github_username` variable to indicate your GitHub username. "
      ]
    },
    {
      "cell_type": "code",
      "execution_count": 5,
      "metadata": {
        "id": "7ZlQqKauX_Hp"
      },
      "outputs": [],
      "source": [
        "### BEGIN YOUR CODE\n",
        "#I have read through the Introduction and Overview notebook\n",
        "READ_INTRODUCTION = True\n",
        "\n",
        "#I understand (at a high level) what Jupyter notebooks are and how to read and\n",
        "#interact with them (or I have been in touch with the course instructor to ask for help)\n",
        "LEARNED_ABOUT_JUPYTER = True\n",
        "\n",
        "#I've created (or already have) a Google account and can access Google\n",
        "#Colaboratory under my own account\n",
        "ACCESS_COLABORATORY = True\n",
        "\n",
        "#I've created a GitHub account\n",
        "CREATED_GITHUB_ACCOUNT = True\n",
        "github_username = 'username'\n",
        "\n",
        "#My info\n",
        "my_name = 'shuan-na'\n",
        "### END YOUR CODE"
      ]
    },
    {
      "cell_type": "markdown",
      "metadata": {
        "id": "9sLVgJynY_WG"
      },
      "source": [
        "## Part 2: Basic output\n",
        "\n",
        "Let's refresh memories of how the `print` function works. It can be used to display the results of calculations and to \"debug\" code as well.  One simple debugging approach is to have your program periodically print out useful messages (using `print`) to help you understand what's happening.\n",
        "\n",
        "The most basic way to use the `print` function is to call `print(...)`, replacing \"`...`\" with the text you want displayed, enclosed in single (`'`) or double (`\"`) quotes, like this:\n",
        "\n",
        "```\n",
        "print('Hello, world!')\n",
        "```\n",
        "\n",
        "Modify the code in the next cell to print a greeting to yourself (e.g. \"Hello, Jeremy!\" or something to that effect, replacing \"Jeremy\" with your own name *as defined in the previous cell*).  Check your work by pressing shift + return to run your code.  It should print out your greeting below your code."
      ]
    },
    {
      "cell_type": "code",
      "execution_count": 2,
      "metadata": {
        "id": "hi3PYzelZ9hX",
        "outputId": "5829f795-0f45-4fe0-8b49-6c0213f1c023",
        "colab": {
          "base_uri": "https://localhost:8080/"
        }
      },
      "outputs": [
        {
          "output_type": "stream",
          "name": "stdout",
          "text": [
            "Hello, Shuana\n"
          ]
        }
      ],
      "source": [
        "### BEGIN YOUR CODE\n",
        "print('Hello, Shuana')\n",
        "### END YOUR CODE"
      ]
    },
    {
      "cell_type": "markdown",
      "metadata": {
        "id": "B4jQedsDKhhB"
      },
      "source": [
        "### Defining functions\n",
        "\n",
        "Next, let's make a tiny tweak to your \"Hello, world!\" program above.  Instead of printing out the greeting, write a function that takes in your `name` as input, and returns the string `'Hello, <name>!'` (replacing `<name>` with whatever the user passed in)."
      ]
    },
    {
      "cell_type": "code",
      "execution_count": 4,
      "metadata": {
        "id": "oITVWK4DK_Td"
      },
      "outputs": [],
      "source": [
        "def greet(name):\n",
        "  ### BEGIN YOUR CODE\n",
        "  name = input\n",
        "  return 'Hello,' + name + '!'\n",
        "  ### END YOUR CODE"
      ]
    },
    {
      "cell_type": "markdown",
      "metadata": {
        "id": "jEZYZGZb5sIv"
      },
      "source": [
        "#### Making your code more robust\n",
        "\n",
        "What happens if someone passes in a list of people?  Can you have your code greet multiple people if they pass in a list of names (e.g., `'Hello, Alex and Bertha!'` or `'Hello, Arvin, Beth, and Calvin!'`)?  Or what if someone passes in a Python datatype other than `str` (`'Hello, 3.14!'`)?  Can your code handle those situations gracefully?\n",
        "\n",
        "To get a sense of which sorts of situations will be tested, check out the following table:\n",
        "\n",
        "|function|args                  |solution           |points|\n",
        "|--------|----------------------|-------------------|------|\n",
        "|identity|READ_INTRODUCTION     |1                  |0.1   |\n",
        "|identity|LEARNED_ABOUT_JUPYTER |1                  |0.1   |\n",
        "|identity|ACCESS_COLABORATORY   |1                  |0.1   |\n",
        "|identity|CREATED_GITHUB_ACCOUNT|1                  |0.1   |\n",
        "|greet   |\\[\"Test User\"\\]       |\"Hello, Test User!\"|0.599 |\n",
        "\n",
        "  - The `function` column specifies which function (from your notebook) will be run.  (Note: the `identity` function ensures that the given `input` matches the given `solution` value.)\n",
        "  - The `args` column specifies one or more (*unnamed*) arguments that will be passed to the given function.  \n",
        "  - The `solution` column specifies what the answer should be when you run the given function with the given inputs.\n",
        "  - The `points` column tells you how many points you'll earn if you pass that test (row) in the rubric.  In addition to these publicly visible tests, your code will also be run through some hidden tests.  Your assignment grade will be based on the total number of points earned from the public and private (hidden) tests.\n",
        "  \n",
        "This approach to software development is called Test-driven development or [TDD](https://en.wikipedia.org/wiki/Test-driven_development). "
      ]
    },
    {
      "cell_type": "markdown",
      "metadata": {
        "id": "7EvafQZgbssH"
      },
      "source": [
        "### Getting help\n",
        "\n",
        "To learn more about any Python command or function, you can type `?<function name>` into a code cell (replacing \"`<function name>`\" with the actual function name, e.g. `print`) and press shift + return to execute it.  Try getting help using this approach for the following functions: `print`, `input`, and `open`.  Click the `x` to close the help documentation once you're done scrolling through it.  Try running (and tweaking) the following commands to get a sense of how the built-in help functions work:\n",
        "```python\n",
        ">> ?print\n",
        ">> help(print\n",
        "```\n",
        "\n"
      ]
    },
    {
      "cell_type": "markdown",
      "metadata": {
        "id": "ml1L-fqrcxPc"
      },
      "source": [
        "Another good way to get help is to search for your problem (e.g. using [Google](https://www.google.com/search?rlz=1C5CHFA_enUS880US880&sxsrf=ACYBGNRa7KbFAoxT-f99XXLUFsFmuRYGCQ%3A1577735980290&ei=LFcKXuKxEbGyggetpa2oDQ&q=how+to+use+python+print&oq=how+to+use+python+print&gs_l=psy-ab.3..0l2j0i22i30l8.984103.986727..986862...1.2..0.126.2246.19j5......0....1..gws-wiz.......0i71j0i67j0i131j35i39j0i273j0i20i263.VxfClbIza58&ved=0ahUKEwji953FlN7mAhUxmeAKHa1SC9UQ4dUDCAs&uact=5)). [StackOverflow](https://stackoverflow.com/) is also a great resource for finding sample code and more advanced use cases (e.g. [here](https://stackoverflow.com/questions/15286401/print-multiple-arguments-in-python)).  You can also post your own questions and/or answer other people's questions to participate in the coding community's ongoing conversations!\n",
        "\n",
        "Finally, if you've tried looking online and you're still stuck, take advantage of your classmates, teaching assistant, and course instructor.  We're all here to help!  Some frustration is totally normal as you're learning, and it's worth struggling to find an answer as long as you're making forward progress.  But if you're completely stuck solving a problem on your own, use *all* of your available resources, including asking for help."
      ]
    },
    {
      "cell_type": "markdown",
      "metadata": {
        "id": "aEwnCFKMbEp8"
      },
      "source": [
        "## Part 3: Submit your excercise\n",
        "\n",
        "Once you've completed the tasks above and have finished going through the text, it's time to submit your work.\n",
        "\n",
        "First, make sure to save your notebook (`File` > `Save`).\n",
        "\n",
        "Next, click the `File` menu button (upper left) and select `Save a copy in GitHub...`.  A dialog box will pop up, asking you where to save the file.  You should save your copy of this notebook in your assignment's GitHub repository (i.e., something like `https://github.com/<course_name>/<assignment_name>-<username>`, where \"`<course_name>`\", \"`<assignment_name>`\" and \"`<username>`\" were discussed above).  Saving a copy of this notebook to your assignment's GitHub repository constitutes \"submitting\" the excercise.\n",
        "\n",
        "### Troubleshooting\n",
        "\n",
        "If you can't find your assignment's GitHub repository (i.e., the copy of the assignment repository tagged with your GitHub username) in the Repository drop-down menu within the save dialogue box, the most likely explanation is that you haven't given Colaboratory access to your private repositories.  Follow the setup and submission instructions in `README.md` to double check that you've given Colaboratory access to your private GitHub repositories.\n",
        "\n",
        "If you're still stuck, you can post questions to our [MS Teams channel](https://teams.microsoft.com/l/channel/19%3a0235b8c0fb054746b8b294a0f22e2a23%40thread.tacv2/Assignments%2520Q%2520and%2520A?groupId=6fd5e8a5-0129-462e-b39e-ff240d9d5359&tenantId=21f26c24-0793-4b07-a73d-563cd2ec235f), making sure to provide enough detail for others to understand the issue you're having.  Specifically, describe in detail:\n",
        "- What you tried\n",
        "- What you expected would happen\n",
        "- What you observed happening instead\n",
        "- Any other information you think might be relevant or important\n",
        "\n",
        "### Important sanity check\n",
        "\n",
        "After you successfully submit your excercise, your web browser should open a new tab (or window) showing your where (on GitHub) your assignment notebook has been copied to.  Scroll through the notebook within that GitHub page and verify that your notebook is correct (i.e., that it contains the changes you made to the original assignment template file).\n",
        "\n",
        "## Updating your submission\n",
        "\n",
        "Prior to the assignment deadline you can re-submit your assignment as often as you would like.  This will update the copy of your assignment file in your assignment's repository.  Once the assignment deadline is reached, the copy of your assignment on GitHub will be submitted automatically (other than syncing your Colaboratory copy to GitHub, no additional action is required to submit this assignment).  Prior submitted versions of your assignment will become part of your assignment's submission history.\n",
        "\n",
        "### Re-starting your submission from scratch\n",
        "\n",
        "To restart your submission from scratch (from the original template notebook for this assignment), simply re-open the assignment's notebook in Colaboratory using [this link](https://github.com/hse-mlwp-2022/assignment2-template/blob/master/jupyter_assignment.ipynb).\n",
        "\n",
        "### Modifying your prior submission(s)\n",
        "\n",
        "As an alternative to starting from scratch, you can also use your existing assignment as a jumping off point for further edits.  The easiest way to do this is to open your Google Colaboratory account ([link](https://colab.research.google.com/)) and select your assignment's notebook using the dialogue box.  It should be in the `Recent` tab.  Or, if you've been working on other files, you can navigate to your notebook within the `Google Drive` (all Colaboratory notebooks are stored on your Google Drive space) or `GitHub` tabs.  After saving your changes, simply follow the submission instructions again to re-copy your assignment to GitHub.\n",
        "\n",
        "### Feedback\n",
        "\n",
        "Each time you submit an updated Jupyter notebook to your GitHub repository, automatic tests are executed and you work is graded. You can view the logs produced by those automatic tests in the `Actions` tab of your repository. Just click on the latest (topmost) workflow run in the list, which consists of your commit messages, and then choose the 'Automatic tests' action."
      ]
    }
  ],
  "metadata": {
    "colab": {
      "collapsed_sections": [],
      "name": "jupyter_assignment.ipynb",
      "provenance": [],
      "include_colab_link": true
    },
    "kernelspec": {
      "display_name": "Python 3",
      "language": "python",
      "name": "python3"
    },
    "language_info": {
      "codemirror_mode": {
        "name": "ipython",
        "version": 3
      },
      "file_extension": ".py",
      "mimetype": "text/x-python",
      "name": "python",
      "nbconvert_exporter": "python",
      "pygments_lexer": "ipython3",
      "version": "3.7.6"
    }
  },
  "nbformat": 4,
  "nbformat_minor": 0
}